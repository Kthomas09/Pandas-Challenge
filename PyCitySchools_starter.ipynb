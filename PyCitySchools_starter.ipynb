{
 "cells": [
  {
   "cell_type": "markdown",
   "metadata": {},
   "source": [
    "### Note\n",
    "* Instructions have been included for each segment. You do not have to follow them exactly, but they are included to help you think through the steps."
   ]
  },
  {
   "cell_type": "code",
   "execution_count": null,
   "metadata": {},
   "outputs": [],
   "source": [
    "# Dependencies and Setup\n",
    "import os\n",
    "import csv\n",
    "import pandas as pd\n",
    "import numpy as np\n",
    "\n",
    "# File to Load (Remember to Change These)\n",
    "school_data_csv = os.path.join(\"Resources/School_Data.csv\")\n",
    "student_data_csv = os.path.join(\"Resources/Student_Data.csv\")\n",
    "\n",
    "# Read School and Student Data File and store into Pandas DataFrames\n",
    "school_data = pd.read_csv(school_data_csv)\n",
    "student_data = pd.read_csv(student_data_csv)\n",
    "\n",
    "# Combine the data into a single dataset.  \n",
    "district_testing_df = pd.merge(student_data, school_data, how=\"left\", on=[\"school_name\", \"school_name\"])\n",
    "district_testing_df.head()"
   ]
  },
  {
   "cell_type": "code",
   "execution_count": 2,
   "metadata": {},
   "outputs": [
    {
     "data": {
      "text/html": [
       "<div>\n",
       "<style scoped>\n",
       "    .dataframe tbody tr th:only-of-type {\n",
       "        vertical-align: middle;\n",
       "    }\n",
       "\n",
       "    .dataframe tbody tr th {\n",
       "        vertical-align: top;\n",
       "    }\n",
       "\n",
       "    .dataframe thead th {\n",
       "        text-align: right;\n",
       "    }\n",
       "</style>\n",
       "<table border=\"1\" class=\"dataframe\">\n",
       "  <thead>\n",
       "    <tr style=\"text-align: right;\">\n",
       "      <th></th>\n",
       "      <th>Student ID</th>\n",
       "      <th>Student Name</th>\n",
       "      <th>Gender</th>\n",
       "      <th>Grade</th>\n",
       "      <th>School Name</th>\n",
       "      <th>Reading Score</th>\n",
       "      <th>Math Score</th>\n",
       "      <th>School ID</th>\n",
       "      <th>Type</th>\n",
       "      <th>Size</th>\n",
       "      <th>Budget</th>\n",
       "    </tr>\n",
       "  </thead>\n",
       "  <tbody>\n",
       "    <tr>\n",
       "      <th>0</th>\n",
       "      <td>0</td>\n",
       "      <td>Paul Bradley</td>\n",
       "      <td>M</td>\n",
       "      <td>9th</td>\n",
       "      <td>Huang High School</td>\n",
       "      <td>66</td>\n",
       "      <td>79</td>\n",
       "      <td>0</td>\n",
       "      <td>District</td>\n",
       "      <td>2917</td>\n",
       "      <td>1910635</td>\n",
       "    </tr>\n",
       "    <tr>\n",
       "      <th>1</th>\n",
       "      <td>1</td>\n",
       "      <td>Victor Smith</td>\n",
       "      <td>M</td>\n",
       "      <td>12th</td>\n",
       "      <td>Huang High School</td>\n",
       "      <td>94</td>\n",
       "      <td>61</td>\n",
       "      <td>0</td>\n",
       "      <td>District</td>\n",
       "      <td>2917</td>\n",
       "      <td>1910635</td>\n",
       "    </tr>\n",
       "    <tr>\n",
       "      <th>2</th>\n",
       "      <td>2</td>\n",
       "      <td>Kevin Rodriguez</td>\n",
       "      <td>M</td>\n",
       "      <td>12th</td>\n",
       "      <td>Huang High School</td>\n",
       "      <td>90</td>\n",
       "      <td>60</td>\n",
       "      <td>0</td>\n",
       "      <td>District</td>\n",
       "      <td>2917</td>\n",
       "      <td>1910635</td>\n",
       "    </tr>\n",
       "    <tr>\n",
       "      <th>3</th>\n",
       "      <td>3</td>\n",
       "      <td>Dr. Richard Scott</td>\n",
       "      <td>M</td>\n",
       "      <td>12th</td>\n",
       "      <td>Huang High School</td>\n",
       "      <td>67</td>\n",
       "      <td>58</td>\n",
       "      <td>0</td>\n",
       "      <td>District</td>\n",
       "      <td>2917</td>\n",
       "      <td>1910635</td>\n",
       "    </tr>\n",
       "    <tr>\n",
       "      <th>4</th>\n",
       "      <td>4</td>\n",
       "      <td>Bonnie Ray</td>\n",
       "      <td>F</td>\n",
       "      <td>9th</td>\n",
       "      <td>Huang High School</td>\n",
       "      <td>97</td>\n",
       "      <td>84</td>\n",
       "      <td>0</td>\n",
       "      <td>District</td>\n",
       "      <td>2917</td>\n",
       "      <td>1910635</td>\n",
       "    </tr>\n",
       "  </tbody>\n",
       "</table>\n",
       "</div>"
      ],
      "text/plain": [
       "   Student ID       Student Name Gender Grade        School Name  \\\n",
       "0           0       Paul Bradley      M   9th  Huang High School   \n",
       "1           1       Victor Smith      M  12th  Huang High School   \n",
       "2           2    Kevin Rodriguez      M  12th  Huang High School   \n",
       "3           3  Dr. Richard Scott      M  12th  Huang High School   \n",
       "4           4         Bonnie Ray      F   9th  Huang High School   \n",
       "\n",
       "   Reading Score  Math Score  School ID      Type  Size   Budget  \n",
       "0             66          79          0  District  2917  1910635  \n",
       "1             94          61          0  District  2917  1910635  \n",
       "2             90          60          0  District  2917  1910635  \n",
       "3             67          58          0  District  2917  1910635  \n",
       "4             97          84          0  District  2917  1910635  "
      ]
     },
     "execution_count": 2,
     "metadata": {},
     "output_type": "execute_result"
    }
   ],
   "source": [
    "# # selecting data\n",
    "# identification_df=district_testing_df[[\"student_name\", \"school_name\"]]\n",
    "renamed_df = district_testing_df.rename(columns = {\"student_name\": \"Student Name\", \"gender\": \"Gender\", \n",
    "                                                   \"grade\": \"Grade\", \"school_name\":\"School Name\",\n",
    "                                                   \"reading_score\": \"Reading Score\", \"math_score\":\"Math Score\",\n",
    "                                                  \"type\": \"Type\", \"size\": \"Size\", \"budget\": \"Budget\"})\n",
    "renamed_df.head()\n",
    "# identification_df.columns({\"student_name\":\"Student Name\", \"school_name\":\"School Name\"})\n",
    "\n",
    "\n"
   ]
  },
  {
   "cell_type": "markdown",
   "metadata": {},
   "source": [
    "## District Summary\n",
    "\n",
    "* Calculate the total number of schools\n",
    "\n",
    "* Calculate the total number of students\n",
    "\n",
    "* Calculate the total budget\n",
    "\n",
    "* Calculate the average math score \n",
    "\n",
    "* Calculate the average reading score\n",
    "\n",
    "* Calculate the percentage of students with a passing math score (70 or greater)\n",
    "\n",
    "* Calculate the percentage of students with a passing reading score (70 or greater)\n",
    "\n",
    "* Calculate the percentage of students who passed math **and** reading (% Overall Passing)\n",
    "\n",
    "* Create a dataframe to hold the above results\n",
    "\n",
    "* Optional: give the displayed data cleaner formatting"
   ]
  },
  {
   "cell_type": "code",
   "execution_count": 3,
   "metadata": {},
   "outputs": [
    {
     "data": {
      "text/plain": [
       "15"
      ]
     },
     "execution_count": 3,
     "metadata": {},
     "output_type": "execute_result"
    }
   ],
   "source": [
    "total_schools = school_data[\"School ID\"].count()\n",
    "total_schools\n"
   ]
  },
  {
   "cell_type": "code",
   "execution_count": 4,
   "metadata": {},
   "outputs": [
    {
     "data": {
      "text/plain": [
       "39170"
      ]
     },
     "execution_count": 4,
     "metadata": {},
     "output_type": "execute_result"
    }
   ],
   "source": [
    "# Tabulating Total Students\n",
    "total_students = student_data[\"Student ID\"].count()\n",
    "total_students "
   ]
  },
  {
   "cell_type": "code",
   "execution_count": 5,
   "metadata": {},
   "outputs": [
    {
     "data": {
      "text/plain": [
       "82932329558"
      ]
     },
     "execution_count": 5,
     "metadata": {},
     "output_type": "execute_result"
    }
   ],
   "source": [
    "# Tabulating Total Budget\n",
    "budget = renamed_df[\"Budget\"]\n",
    "total_budget = budget.sum()\n",
    "total_budget"
   ]
  },
  {
   "cell_type": "code",
   "execution_count": 6,
   "metadata": {},
   "outputs": [
    {
     "data": {
      "text/plain": [
       "78.98537145774827"
      ]
     },
     "execution_count": 6,
     "metadata": {},
     "output_type": "execute_result"
    }
   ],
   "source": [
    "#Calculate the average math score\n",
    "math= renamed_df[\"Math Score\"]\n",
    "average_math_scores = math.mean()\n",
    "average_math_scores\n"
   ]
  },
  {
   "cell_type": "code",
   "execution_count": 7,
   "metadata": {},
   "outputs": [
    {
     "data": {
      "text/plain": [
       "81.87784018381414"
      ]
     },
     "execution_count": 7,
     "metadata": {},
     "output_type": "execute_result"
    }
   ],
   "source": [
    "# Calculate the average reading score\n",
    "reading = renamed_df[\"Reading Score\"]\n",
    "average_reading_scores = reading.mean()\n",
    "average_reading_scores"
   ]
  },
  {
   "cell_type": "code",
   "execution_count": 8,
   "metadata": {},
   "outputs": [
    {
     "data": {
      "text/plain": [
       "72.39213683941792"
      ]
     },
     "execution_count": 8,
     "metadata": {},
     "output_type": "execute_result"
    }
   ],
   "source": [
    "# Calculate the percentage of students with a passing math score (70 or greater)\n",
    "passing_math_percentage = district_testing_df.loc[district_testing_df[\"math_score\"]>70][\"School ID\"].count()/ total_students*100\n",
    "passing_math_percentage"
   ]
  },
  {
   "cell_type": "code",
   "execution_count": 9,
   "metadata": {},
   "outputs": [
    {
     "data": {
      "text/plain": [
       "82.97166198621395"
      ]
     },
     "execution_count": 9,
     "metadata": {},
     "output_type": "execute_result"
    }
   ],
   "source": [
    "# Calculate the percentage of students with a passing reading score (70 or greater)\n",
    "passing_reading_percentage = district_testing_df.loc[district_testing_df[\"reading_score\"]>70][\"School ID\"].count()/ total_students*100\n",
    "passing_reading_percentage"
   ]
  },
  {
   "cell_type": "code",
   "execution_count": 10,
   "metadata": {},
   "outputs": [
    {
     "data": {
      "text/plain": [
       "77.68189941281594"
      ]
     },
     "execution_count": 10,
     "metadata": {},
     "output_type": "execute_result"
    }
   ],
   "source": [
    "# Calculate the percentage of students who passed math and reading (% Overall Passing)\n",
    "overall_pass_percentage = (passing_reading_percentage + passing_math_percentage)/2\n",
    "overall_pass_percentage"
   ]
  },
  {
   "cell_type": "code",
   "execution_count": 11,
   "metadata": {},
   "outputs": [
    {
     "data": {
      "text/html": [
       "<div>\n",
       "<style scoped>\n",
       "    .dataframe tbody tr th:only-of-type {\n",
       "        vertical-align: middle;\n",
       "    }\n",
       "\n",
       "    .dataframe tbody tr th {\n",
       "        vertical-align: top;\n",
       "    }\n",
       "\n",
       "    .dataframe thead th {\n",
       "        text-align: right;\n",
       "    }\n",
       "</style>\n",
       "<table border=\"1\" class=\"dataframe\">\n",
       "  <thead>\n",
       "    <tr style=\"text-align: right;\">\n",
       "      <th></th>\n",
       "      <th>Total Schools</th>\n",
       "      <th>Total Students</th>\n",
       "      <th>Total Budget</th>\n",
       "      <th>Average Math Score</th>\n",
       "      <th>Average Reading Score</th>\n",
       "      <th>Percentage Passed (Math)</th>\n",
       "      <th>Percentage Passed (Reading)</th>\n",
       "      <th>Overall Passing Percentage</th>\n",
       "    </tr>\n",
       "  </thead>\n",
       "  <tbody>\n",
       "    <tr>\n",
       "      <th>0</th>\n",
       "      <td>15</td>\n",
       "      <td>39170</td>\n",
       "      <td>82932329558</td>\n",
       "      <td>78.985371</td>\n",
       "      <td>81.87784</td>\n",
       "      <td>72.392137</td>\n",
       "      <td>82.971662</td>\n",
       "      <td>77.681899</td>\n",
       "    </tr>\n",
       "  </tbody>\n",
       "</table>\n",
       "</div>"
      ],
      "text/plain": [
       "   Total Schools  Total Students  Total Budget  Average Math Score  \\\n",
       "0             15           39170   82932329558           78.985371   \n",
       "\n",
       "   Average Reading Score  Percentage Passed (Math)  \\\n",
       "0               81.87784                 72.392137   \n",
       "\n",
       "   Percentage Passed (Reading)  Overall Passing Percentage  \n",
       "0                    82.971662                   77.681899  "
      ]
     },
     "execution_count": 11,
     "metadata": {},
     "output_type": "execute_result"
    }
   ],
   "source": [
    "# Create a dataframe to hold the above results\n",
    "district_summary_df = pd.DataFrame({\"Total Schools\": [total_schools],\"Total Students\":[total_students],\"Total Budget\": [total_budget],\n",
    "                                           \"Average Math Score\": [average_math_scores],\"Average Reading Score\": [average_reading_scores], \n",
    "                                           \"Percentage Passed (Math)\": [passing_math_percentage],\n",
    "                                          \"Percentage Passed (Reading)\": [passing_reading_percentage],\n",
    "                                           \"Overall Passing Percentage\":[overall_pass_percentage]})\n",
    "district_summary_df = district_summary_df[[\"Total Schools\", \"Total Students\", \"Total Budget\", \n",
    "                                           \"Average Math Score\", \"Average Reading Score\",\n",
    "                                           \"Percentage Passed (Math)\", \"Percentage Passed (Reading)\",\n",
    "                                          \"Overall Passing Percentage\"]]\n",
    "district_summary_df\n",
    "\n",
    "\n",
    "\n",
    "\n"
   ]
  },
  {
   "cell_type": "markdown",
   "metadata": {},
   "source": [
    "## School Summary"
   ]
  },
  {
   "cell_type": "markdown",
   "metadata": {},
   "source": [
    "* Create an overview table that summarizes key metrics about each school, including:\n",
    "  * School Name\n",
    "  * School Type\n",
    "  * Total Students\n",
    "  * Total School Budget\n",
    "  * Per Student Budget\n",
    "  * Average Math Score\n",
    "  * Average Reading Score\n",
    "  * % Passing Math\n",
    "  * % Passing Reading\n",
    "  * % Overall Passing (The percentage of students that passed math **and** reading.)\n",
    "  \n",
    "* Create a dataframe to hold the above results"
   ]
  },
  {
   "cell_type": "code",
   "execution_count": 12,
   "metadata": {},
   "outputs": [
    {
     "data": {
      "text/html": [
       "<div>\n",
       "<style scoped>\n",
       "    .dataframe tbody tr th:only-of-type {\n",
       "        vertical-align: middle;\n",
       "    }\n",
       "\n",
       "    .dataframe tbody tr th {\n",
       "        vertical-align: top;\n",
       "    }\n",
       "\n",
       "    .dataframe thead th {\n",
       "        text-align: right;\n",
       "    }\n",
       "</style>\n",
       "<table border=\"1\" class=\"dataframe\">\n",
       "  <thead>\n",
       "    <tr style=\"text-align: right;\">\n",
       "      <th></th>\n",
       "      <th>School ID</th>\n",
       "      <th>School Name</th>\n",
       "      <th>Type</th>\n",
       "      <th>Size</th>\n",
       "      <th>Budget</th>\n",
       "      <th>Student Name</th>\n",
       "      <th>Student ID</th>\n",
       "      <th>Gender</th>\n",
       "      <th>Grade</th>\n",
       "      <th>Reading Score</th>\n",
       "      <th>Math Score</th>\n",
       "    </tr>\n",
       "  </thead>\n",
       "  <tbody>\n",
       "    <tr>\n",
       "      <th>0</th>\n",
       "      <td>0</td>\n",
       "      <td>Huang High School</td>\n",
       "      <td>District</td>\n",
       "      <td>2917</td>\n",
       "      <td>1910635</td>\n",
       "      <td>Paul Bradley</td>\n",
       "      <td>0</td>\n",
       "      <td>M</td>\n",
       "      <td>9th</td>\n",
       "      <td>66</td>\n",
       "      <td>79</td>\n",
       "    </tr>\n",
       "    <tr>\n",
       "      <th>1</th>\n",
       "      <td>0</td>\n",
       "      <td>Huang High School</td>\n",
       "      <td>District</td>\n",
       "      <td>2917</td>\n",
       "      <td>1910635</td>\n",
       "      <td>Victor Smith</td>\n",
       "      <td>1</td>\n",
       "      <td>M</td>\n",
       "      <td>12th</td>\n",
       "      <td>94</td>\n",
       "      <td>61</td>\n",
       "    </tr>\n",
       "    <tr>\n",
       "      <th>2</th>\n",
       "      <td>0</td>\n",
       "      <td>Huang High School</td>\n",
       "      <td>District</td>\n",
       "      <td>2917</td>\n",
       "      <td>1910635</td>\n",
       "      <td>Kevin Rodriguez</td>\n",
       "      <td>2</td>\n",
       "      <td>M</td>\n",
       "      <td>12th</td>\n",
       "      <td>90</td>\n",
       "      <td>60</td>\n",
       "    </tr>\n",
       "    <tr>\n",
       "      <th>3</th>\n",
       "      <td>0</td>\n",
       "      <td>Huang High School</td>\n",
       "      <td>District</td>\n",
       "      <td>2917</td>\n",
       "      <td>1910635</td>\n",
       "      <td>Dr. Richard Scott</td>\n",
       "      <td>3</td>\n",
       "      <td>M</td>\n",
       "      <td>12th</td>\n",
       "      <td>67</td>\n",
       "      <td>58</td>\n",
       "    </tr>\n",
       "    <tr>\n",
       "      <th>4</th>\n",
       "      <td>0</td>\n",
       "      <td>Huang High School</td>\n",
       "      <td>District</td>\n",
       "      <td>2917</td>\n",
       "      <td>1910635</td>\n",
       "      <td>Bonnie Ray</td>\n",
       "      <td>4</td>\n",
       "      <td>F</td>\n",
       "      <td>9th</td>\n",
       "      <td>97</td>\n",
       "      <td>84</td>\n",
       "    </tr>\n",
       "  </tbody>\n",
       "</table>\n",
       "</div>"
      ],
      "text/plain": [
       "   School ID        School Name      Type  Size   Budget       Student Name  \\\n",
       "0          0  Huang High School  District  2917  1910635       Paul Bradley   \n",
       "1          0  Huang High School  District  2917  1910635       Victor Smith   \n",
       "2          0  Huang High School  District  2917  1910635    Kevin Rodriguez   \n",
       "3          0  Huang High School  District  2917  1910635  Dr. Richard Scott   \n",
       "4          0  Huang High School  District  2917  1910635         Bonnie Ray   \n",
       "\n",
       "   Student ID Gender Grade  Reading Score  Math Score  \n",
       "0           0      M   9th             66          79  \n",
       "1           1      M  12th             94          61  \n",
       "2           2      M  12th             90          60  \n",
       "3           3      M  12th             67          58  \n",
       "4           4      F   9th             97          84  "
      ]
     },
     "execution_count": 12,
     "metadata": {},
     "output_type": "execute_result"
    }
   ],
   "source": [
    "school_data_df = renamed_df[[\"School ID\",\"School Name\",\"Type\",\"Size\", \"Budget\", \"Student Name\", \"Student ID\", \"Gender\", \"Grade\", \"Reading Score\", \"Math Score\" ]].copy()\n",
    "school_data_df.head()"
   ]
  },
  {
   "cell_type": "code",
   "execution_count": 13,
   "metadata": {},
   "outputs": [
    {
     "data": {
      "text/html": [
       "<div>\n",
       "<style scoped>\n",
       "    .dataframe tbody tr th:only-of-type {\n",
       "        vertical-align: middle;\n",
       "    }\n",
       "\n",
       "    .dataframe tbody tr th {\n",
       "        vertical-align: top;\n",
       "    }\n",
       "\n",
       "    .dataframe thead th {\n",
       "        text-align: right;\n",
       "    }\n",
       "</style>\n",
       "<table border=\"1\" class=\"dataframe\">\n",
       "  <thead>\n",
       "    <tr style=\"text-align: right;\">\n",
       "      <th></th>\n",
       "      <th>School ID</th>\n",
       "      <th>School Name</th>\n",
       "      <th>Type</th>\n",
       "      <th>Size</th>\n",
       "      <th>Budget</th>\n",
       "      <th>Student Name</th>\n",
       "      <th>Student ID</th>\n",
       "      <th>Gender</th>\n",
       "      <th>Grade</th>\n",
       "      <th>Reading Score</th>\n",
       "      <th>Math Score</th>\n",
       "    </tr>\n",
       "  </thead>\n",
       "  <tbody>\n",
       "    <tr>\n",
       "      <th>0</th>\n",
       "      <td>0</td>\n",
       "      <td>Huang High School</td>\n",
       "      <td>District</td>\n",
       "      <td>2917</td>\n",
       "      <td>1910635</td>\n",
       "      <td>Paul Bradley</td>\n",
       "      <td>0</td>\n",
       "      <td>M</td>\n",
       "      <td>9th</td>\n",
       "      <td>66</td>\n",
       "      <td>79</td>\n",
       "    </tr>\n",
       "    <tr>\n",
       "      <th>1</th>\n",
       "      <td>0</td>\n",
       "      <td>Huang High School</td>\n",
       "      <td>District</td>\n",
       "      <td>2917</td>\n",
       "      <td>1910635</td>\n",
       "      <td>Victor Smith</td>\n",
       "      <td>1</td>\n",
       "      <td>M</td>\n",
       "      <td>12th</td>\n",
       "      <td>94</td>\n",
       "      <td>61</td>\n",
       "    </tr>\n",
       "    <tr>\n",
       "      <th>2</th>\n",
       "      <td>0</td>\n",
       "      <td>Huang High School</td>\n",
       "      <td>District</td>\n",
       "      <td>2917</td>\n",
       "      <td>1910635</td>\n",
       "      <td>Kevin Rodriguez</td>\n",
       "      <td>2</td>\n",
       "      <td>M</td>\n",
       "      <td>12th</td>\n",
       "      <td>90</td>\n",
       "      <td>60</td>\n",
       "    </tr>\n",
       "    <tr>\n",
       "      <th>3</th>\n",
       "      <td>0</td>\n",
       "      <td>Huang High School</td>\n",
       "      <td>District</td>\n",
       "      <td>2917</td>\n",
       "      <td>1910635</td>\n",
       "      <td>Dr. Richard Scott</td>\n",
       "      <td>3</td>\n",
       "      <td>M</td>\n",
       "      <td>12th</td>\n",
       "      <td>67</td>\n",
       "      <td>58</td>\n",
       "    </tr>\n",
       "    <tr>\n",
       "      <th>4</th>\n",
       "      <td>0</td>\n",
       "      <td>Huang High School</td>\n",
       "      <td>District</td>\n",
       "      <td>2917</td>\n",
       "      <td>1910635</td>\n",
       "      <td>Bonnie Ray</td>\n",
       "      <td>4</td>\n",
       "      <td>F</td>\n",
       "      <td>9th</td>\n",
       "      <td>97</td>\n",
       "      <td>84</td>\n",
       "    </tr>\n",
       "    <tr>\n",
       "      <th>...</th>\n",
       "      <td>...</td>\n",
       "      <td>...</td>\n",
       "      <td>...</td>\n",
       "      <td>...</td>\n",
       "      <td>...</td>\n",
       "      <td>...</td>\n",
       "      <td>...</td>\n",
       "      <td>...</td>\n",
       "      <td>...</td>\n",
       "      <td>...</td>\n",
       "      <td>...</td>\n",
       "    </tr>\n",
       "    <tr>\n",
       "      <th>37535</th>\n",
       "      <td>14</td>\n",
       "      <td>Thomas High School</td>\n",
       "      <td>Charter</td>\n",
       "      <td>1635</td>\n",
       "      <td>1043130</td>\n",
       "      <td>Norma Mata</td>\n",
       "      <td>37535</td>\n",
       "      <td>F</td>\n",
       "      <td>10th</td>\n",
       "      <td>76</td>\n",
       "      <td>76</td>\n",
       "    </tr>\n",
       "    <tr>\n",
       "      <th>37536</th>\n",
       "      <td>14</td>\n",
       "      <td>Thomas High School</td>\n",
       "      <td>Charter</td>\n",
       "      <td>1635</td>\n",
       "      <td>1043130</td>\n",
       "      <td>Cody Miller</td>\n",
       "      <td>37536</td>\n",
       "      <td>M</td>\n",
       "      <td>11th</td>\n",
       "      <td>84</td>\n",
       "      <td>82</td>\n",
       "    </tr>\n",
       "    <tr>\n",
       "      <th>37537</th>\n",
       "      <td>14</td>\n",
       "      <td>Thomas High School</td>\n",
       "      <td>Charter</td>\n",
       "      <td>1635</td>\n",
       "      <td>1043130</td>\n",
       "      <td>Erik Snyder</td>\n",
       "      <td>37537</td>\n",
       "      <td>M</td>\n",
       "      <td>9th</td>\n",
       "      <td>80</td>\n",
       "      <td>90</td>\n",
       "    </tr>\n",
       "    <tr>\n",
       "      <th>37538</th>\n",
       "      <td>14</td>\n",
       "      <td>Thomas High School</td>\n",
       "      <td>Charter</td>\n",
       "      <td>1635</td>\n",
       "      <td>1043130</td>\n",
       "      <td>Tanya Martinez</td>\n",
       "      <td>37538</td>\n",
       "      <td>F</td>\n",
       "      <td>9th</td>\n",
       "      <td>71</td>\n",
       "      <td>69</td>\n",
       "    </tr>\n",
       "    <tr>\n",
       "      <th>37539</th>\n",
       "      <td>14</td>\n",
       "      <td>Thomas High School</td>\n",
       "      <td>Charter</td>\n",
       "      <td>1635</td>\n",
       "      <td>1043130</td>\n",
       "      <td>Noah Erickson</td>\n",
       "      <td>37539</td>\n",
       "      <td>M</td>\n",
       "      <td>9th</td>\n",
       "      <td>86</td>\n",
       "      <td>76</td>\n",
       "    </tr>\n",
       "  </tbody>\n",
       "</table>\n",
       "<p>75 rows × 11 columns</p>\n",
       "</div>"
      ],
      "text/plain": [
       "       School ID         School Name      Type  Size   Budget  \\\n",
       "0              0   Huang High School  District  2917  1910635   \n",
       "1              0   Huang High School  District  2917  1910635   \n",
       "2              0   Huang High School  District  2917  1910635   \n",
       "3              0   Huang High School  District  2917  1910635   \n",
       "4              0   Huang High School  District  2917  1910635   \n",
       "...          ...                 ...       ...   ...      ...   \n",
       "37535         14  Thomas High School   Charter  1635  1043130   \n",
       "37536         14  Thomas High School   Charter  1635  1043130   \n",
       "37537         14  Thomas High School   Charter  1635  1043130   \n",
       "37538         14  Thomas High School   Charter  1635  1043130   \n",
       "37539         14  Thomas High School   Charter  1635  1043130   \n",
       "\n",
       "            Student Name  Student ID Gender Grade  Reading Score  Math Score  \n",
       "0           Paul Bradley           0      M   9th             66          79  \n",
       "1           Victor Smith           1      M  12th             94          61  \n",
       "2        Kevin Rodriguez           2      M  12th             90          60  \n",
       "3      Dr. Richard Scott           3      M  12th             67          58  \n",
       "4             Bonnie Ray           4      F   9th             97          84  \n",
       "...                  ...         ...    ...   ...            ...         ...  \n",
       "37535         Norma Mata       37535      F  10th             76          76  \n",
       "37536        Cody Miller       37536      M  11th             84          82  \n",
       "37537        Erik Snyder       37537      M   9th             80          90  \n",
       "37538     Tanya Martinez       37538      F   9th             71          69  \n",
       "37539      Noah Erickson       37539      M   9th             86          76  \n",
       "\n",
       "[75 rows x 11 columns]"
      ]
     },
     "execution_count": 13,
     "metadata": {},
     "output_type": "execute_result"
    }
   ],
   "source": [
    "school_groups_df = school_data_df.groupby([\"School Name\", \"Type\"])\n",
    "school_groups_df.head()"
   ]
  },
  {
   "cell_type": "code",
   "execution_count": 14,
   "metadata": {},
   "outputs": [
    {
     "data": {
      "text/plain": [
       "School Name            Type    \n",
       "Bailey High School     District    4976\n",
       "Cabrera High School    Charter     1858\n",
       "Figueroa High School   District    2949\n",
       "Ford High School       District    2739\n",
       "Griffin High School    Charter     1468\n",
       "Hernandez High School  District    4635\n",
       "Holden High School     Charter      427\n",
       "Huang High School      District    2917\n",
       "Johnson High School    District    4761\n",
       "Pena High School       Charter      962\n",
       "Rodriguez High School  District    3999\n",
       "Shelton High School    Charter     1761\n",
       "Thomas High School     Charter     1635\n",
       "Wilson High School     Charter     2283\n",
       "Wright High School     Charter     1800\n",
       "Name: Student ID, dtype: int64"
      ]
     },
     "execution_count": 14,
     "metadata": {},
     "output_type": "execute_result"
    }
   ],
   "source": [
    "total_students_per_school = school_groups_df[\"Student ID\"].count()\n",
    "total_students_per_school"
   ]
  },
  {
   "cell_type": "code",
   "execution_count": 15,
   "metadata": {},
   "outputs": [
    {
     "data": {
      "text/plain": [
       "School Name            Type    \n",
       "Bailey High School     District    3124928\n",
       "Cabrera High School    Charter     1081356\n",
       "Figueroa High School   District    1884411\n",
       "Ford High School       District    1763916\n",
       "Griffin High School    Charter      917500\n",
       "Hernandez High School  District    3022020\n",
       "Holden High School     Charter      248087\n",
       "Huang High School      District    1910635\n",
       "Johnson High School    District    3094650\n",
       "Pena High School       Charter      585858\n",
       "Rodriguez High School  District    2547363\n",
       "Shelton High School    Charter     1056600\n",
       "Thomas High School     Charter     1043130\n",
       "Wilson High School     Charter     1319574\n",
       "Wright High School     Charter     1049400\n",
       "Name: Budget, dtype: int64"
      ]
     },
     "execution_count": 15,
     "metadata": {},
     "output_type": "execute_result"
    }
   ],
   "source": [
    "budget_per_school = school_groups_df[\"Budget\"].mean()\n",
    "budget_per_school"
   ]
  },
  {
   "cell_type": "code",
   "execution_count": 16,
   "metadata": {},
   "outputs": [
    {
     "data": {
      "text/plain": [
       "School Name            Type    \n",
       "Bailey High School     District    628.0\n",
       "Cabrera High School    Charter     582.0\n",
       "Figueroa High School   District    639.0\n",
       "Ford High School       District    644.0\n",
       "Griffin High School    Charter     625.0\n",
       "Hernandez High School  District    652.0\n",
       "Holden High School     Charter     581.0\n",
       "Huang High School      District    655.0\n",
       "Johnson High School    District    650.0\n",
       "Pena High School       Charter     609.0\n",
       "Rodriguez High School  District    637.0\n",
       "Shelton High School    Charter     600.0\n",
       "Thomas High School     Charter     638.0\n",
       "Wilson High School     Charter     578.0\n",
       "Wright High School     Charter     583.0\n",
       "dtype: float64"
      ]
     },
     "execution_count": 16,
     "metadata": {},
     "output_type": "execute_result"
    }
   ],
   "source": [
    "per_pupil_spending = (budget_per_school/total_students_per_school)\n",
    "per_pupil_spending"
   ]
  },
  {
   "cell_type": "code",
   "execution_count": 17,
   "metadata": {},
   "outputs": [
    {
     "data": {
      "text/plain": [
       "School Name            Type    \n",
       "Bailey High School     District    77.048432\n",
       "Cabrera High School    Charter     83.061895\n",
       "Figueroa High School   District    76.711767\n",
       "Ford High School       District    77.102592\n",
       "Griffin High School    Charter     83.351499\n",
       "Hernandez High School  District    77.289752\n",
       "Holden High School     Charter     83.803279\n",
       "Huang High School      District    76.629414\n",
       "Johnson High School    District    77.072464\n",
       "Pena High School       Charter     83.839917\n",
       "Rodriguez High School  District    76.842711\n",
       "Shelton High School    Charter     83.359455\n",
       "Thomas High School     Charter     83.418349\n",
       "Wilson High School     Charter     83.274201\n",
       "Wright High School     Charter     83.682222\n",
       "Name: Math Score, dtype: float64"
      ]
     },
     "execution_count": 17,
     "metadata": {},
     "output_type": "execute_result"
    }
   ],
   "source": [
    "avg_mathscore_per_school = school_groups_df[\"Math Score\"].mean()\n",
    "avg_mathscore_per_school"
   ]
  },
  {
   "cell_type": "code",
   "execution_count": 18,
   "metadata": {},
   "outputs": [
    {
     "data": {
      "text/plain": [
       "School Name            Type    \n",
       "Bailey High School     District    81.033963\n",
       "Cabrera High School    Charter     83.975780\n",
       "Figueroa High School   District    81.158020\n",
       "Ford High School       District    80.746258\n",
       "Griffin High School    Charter     83.816757\n",
       "Hernandez High School  District    80.934412\n",
       "Holden High School     Charter     83.814988\n",
       "Huang High School      District    81.182722\n",
       "Johnson High School    District    80.966394\n",
       "Pena High School       Charter     84.044699\n",
       "Rodriguez High School  District    80.744686\n",
       "Shelton High School    Charter     83.725724\n",
       "Thomas High School     Charter     83.848930\n",
       "Wilson High School     Charter     83.989488\n",
       "Wright High School     Charter     83.955000\n",
       "Name: Reading Score, dtype: float64"
      ]
     },
     "execution_count": 18,
     "metadata": {},
     "output_type": "execute_result"
    }
   ],
   "source": [
    "avg_readingscore_per_school = school_groups_df[\"Reading Score\"].mean()\n",
    "avg_readingscore_per_school"
   ]
  },
  {
   "cell_type": "code",
   "execution_count": 19,
   "metadata": {},
   "outputs": [
    {
     "data": {
      "text/plain": [
       "School Name            Type    \n",
       "Bailey High School     District     5.698553\n",
       "Cabrera High School    Charter     15.261572\n",
       "Figueroa High School   District     9.615463\n",
       "Ford High School       District    10.352683\n",
       "Griffin High School    Charter     19.316076\n",
       "Hernandez High School  District     6.117799\n",
       "Holden High School     Charter     66.407494\n",
       "Huang High School      District     9.720946\n",
       "Johnson High School    District     5.955892\n",
       "Pena High School       Charter     29.476091\n",
       "Rodriguez High School  District     7.090773\n",
       "Shelton High School    Charter     16.102215\n",
       "Thomas High School     Charter     17.343119\n",
       "Wilson High School     Charter     12.420499\n",
       "Wright High School     Charter     15.753333\n",
       "Name: Student ID, dtype: float64"
      ]
     },
     "execution_count": 19,
     "metadata": {},
     "output_type": "execute_result"
    }
   ],
   "source": [
    "schools_passing_math = school_data_df.loc[school_data_df[\"Math Score\"]>70][\"School ID\"].count()/ total_students_per_school\n",
    "schools_passing_math"
   ]
  },
  {
   "cell_type": "code",
   "execution_count": 20,
   "metadata": {},
   "outputs": [
    {
     "data": {
      "text/plain": [
       "School Name            Type    \n",
       "Bailey High School     District     6.531350\n",
       "Cabrera High School    Charter     17.491927\n",
       "Figueroa High School   District    11.020685\n",
       "Ford High School       District    11.865644\n",
       "Griffin High School    Charter     22.138965\n",
       "Hernandez High School  District     7.011866\n",
       "Holden High School     Charter     76.112412\n",
       "Huang High School      District    11.141584\n",
       "Johnson High School    District     6.826297\n",
       "Pena High School       Charter     33.783784\n",
       "Rodriguez High School  District     8.127032\n",
       "Shelton High School    Charter     18.455423\n",
       "Thomas High School     Charter     19.877676\n",
       "Wilson High School     Charter     14.235655\n",
       "Wright High School     Charter     18.055556\n",
       "Name: Student ID, dtype: float64"
      ]
     },
     "execution_count": 20,
     "metadata": {},
     "output_type": "execute_result"
    }
   ],
   "source": [
    "schools_passing_reading = school_data_df.loc[school_data_df[\"Reading Score\"]>70][\"School ID\"].count()/ total_students_per_school\n",
    "schools_passing_reading"
   ]
  },
  {
   "cell_type": "code",
   "execution_count": 26,
   "metadata": {},
   "outputs": [
    {
     "data": {
      "text/plain": [
       "School Name            Type    \n",
       "Bailey High School     District     6.114952\n",
       "Cabrera High School    Charter     16.376749\n",
       "Figueroa High School   District    10.318074\n",
       "Ford High School       District    11.109164\n",
       "Griffin High School    Charter     20.727520\n",
       "Hernandez High School  District     6.564833\n",
       "Holden High School     Charter     71.259953\n",
       "Huang High School      District    10.431265\n",
       "Johnson High School    District     6.391094\n",
       "Pena High School       Charter     31.629938\n",
       "Rodriguez High School  District     7.608902\n",
       "Shelton High School    Charter     17.278819\n",
       "Thomas High School     Charter     18.610398\n",
       "Wilson High School     Charter     13.328077\n",
       "Wright High School     Charter     16.904444\n",
       "Name: Student ID, dtype: float64"
      ]
     },
     "execution_count": 26,
     "metadata": {},
     "output_type": "execute_result"
    }
   ],
   "source": [
    "schools_overall_passing_percentage = (schools_passing_math+schools_passing_reading)/2\n",
    "schools_overall_passing_percentage"
   ]
  },
  {
   "cell_type": "code",
   "execution_count": 24,
   "metadata": {},
   "outputs": [
    {
     "ename": "SyntaxError",
     "evalue": "invalid syntax (<ipython-input-24-fb90dd0103f4>, line 12)",
     "output_type": "error",
     "traceback": [
      "\u001b[0;36m  File \u001b[0;32m\"<ipython-input-24-fb90dd0103f4>\"\u001b[0;36m, line \u001b[0;32m12\u001b[0m\n\u001b[0;31m    school_summary_df = pd.DataFrame({[\"Total Students Per School\": [total_students_per_school]], [\"Budget Per School\": [budget_per_school]],\u001b[0m\n\u001b[0m                                                                  ^\u001b[0m\n\u001b[0;31mSyntaxError\u001b[0m\u001b[0;31m:\u001b[0m invalid syntax\n"
     ]
    }
   ],
   "source": [
    "# district_summary_df = pd.DataFrame({\"Total Schools\": [total_schools],\"Total Students\":[total_students],\"Total Budget\": [total_budget],\n",
    "#                                            \"Average Math Score\": [average_math_scores],\"Average Reading Score\": [average_reading_scores], \n",
    "#                                            \"Percentage Passed (Math)\": [passing_math_percentage],\n",
    "#                                           \"Percentage Passed (Reading)\": [passing_reading_percentage],\n",
    "#                                            \"Overall Passing Percentage\":[overall_pass_percentage]})\n",
    "# district_summary_df = district_summary_df[[\"Total Schools\", \"Total Students\", \"Total Budget\", \n",
    "#                                            \"Average Math Score\", \"Average Reading Score\",\n",
    "#                                            \"Percentage Passed (Math)\", \"Percentage Passed (Reading)\",\n",
    "#                                           \"Overall Passing Percentage\"]]\n",
    "# district_summary_df\n",
    "\n",
    "school_summary_df = pd.DataFrame({[\"Total Students Per School\": [total_students_per_school]], [\"Budget Per School\": [budget_per_school]], \n",
    "                                  [\"Spending Per Pupil\": [per_pupil_spending]], [\"Average Score Per School (Math)\": [avg_mathscore_per_school]], \n",
    "                                  [\"Average Score Per School (Reading)\": [avg_readingscore_per_school]], \n",
    "                                  [\"Pass Rate Per School (Math)\": [schools_passing_math]], [\"Pass Rate Per School (Reading)\":[schools_passing_reading]], \n",
    "                                  [\"Schools Overall Pass Rate\":[schools_overall_passing_percentage]]})\n",
    "\n",
    "school_summary_df = school_summary_df[[\"Total Students Per School\", \"Budget Per School\", \"Spending Per Pupil\", \n",
    "                                       \"Average Score Per School (Math)\", \"Average Score Per School (Reading)\", \n",
    "                                       \"Pass Rate Per School (Math)\", \"Pass Rate Per School (Reading)\",  \n",
    "                                       \"Schools Overall Pass Rate\"]]\n",
    "school_summary_df.head()"
   ]
  },
  {
   "cell_type": "markdown",
   "metadata": {},
   "source": [
    "## Top Performing Schools (By % Overall Passing)"
   ]
  },
  {
   "cell_type": "markdown",
   "metadata": {},
   "source": [
    "* Sort and display the top five performing schools by % overall passing."
   ]
  },
  {
   "cell_type": "code",
   "execution_count": null,
   "metadata": {
    "scrolled": true
   },
   "outputs": [],
   "source": []
  },
  {
   "cell_type": "markdown",
   "metadata": {},
   "source": [
    "## Bottom Performing Schools (By % Overall Passing)"
   ]
  },
  {
   "cell_type": "markdown",
   "metadata": {},
   "source": [
    "* Sort and display the five worst-performing schools by % overall passing."
   ]
  },
  {
   "cell_type": "code",
   "execution_count": null,
   "metadata": {},
   "outputs": [],
   "source": []
  },
  {
   "cell_type": "markdown",
   "metadata": {
    "collapsed": true
   },
   "source": [
    "## Math Scores by Grade"
   ]
  },
  {
   "cell_type": "markdown",
   "metadata": {},
   "source": [
    "* Create a table that lists the average Reading Score for students of each grade level (9th, 10th, 11th, 12th) at each school.\n",
    "\n",
    "  * Create a pandas series for each grade. Hint: use a conditional statement.\n",
    "  \n",
    "  * Group each series by school\n",
    "  \n",
    "  * Combine the series into a dataframe\n",
    "  \n",
    "  * Optional: give the displayed data cleaner formatting"
   ]
  },
  {
   "cell_type": "code",
   "execution_count": null,
   "metadata": {},
   "outputs": [],
   "source": []
  },
  {
   "cell_type": "markdown",
   "metadata": {},
   "source": [
    "## Reading Score by Grade "
   ]
  },
  {
   "cell_type": "markdown",
   "metadata": {},
   "source": [
    "* Perform the same operations as above for reading scores"
   ]
  },
  {
   "cell_type": "code",
   "execution_count": null,
   "metadata": {},
   "outputs": [],
   "source": []
  },
  {
   "cell_type": "markdown",
   "metadata": {},
   "source": [
    "## Scores by School Spending"
   ]
  },
  {
   "cell_type": "markdown",
   "metadata": {},
   "source": [
    "* Create a table that breaks down school performances based on average Spending Ranges (Per Student). Use 4 reasonable bins to group school spending. Include in the table each of the following:\n",
    "  * Average Math Score\n",
    "  * Average Reading Score\n",
    "  * % Passing Math\n",
    "  * % Passing Reading\n",
    "  * Overall Passing Rate (Average of the above two)"
   ]
  },
  {
   "cell_type": "code",
   "execution_count": null,
   "metadata": {},
   "outputs": [],
   "source": []
  },
  {
   "cell_type": "markdown",
   "metadata": {},
   "source": [
    "## Scores by School Size"
   ]
  },
  {
   "cell_type": "markdown",
   "metadata": {},
   "source": [
    "* Perform the same operations as above, based on school size."
   ]
  },
  {
   "cell_type": "code",
   "execution_count": null,
   "metadata": {
    "scrolled": true
   },
   "outputs": [],
   "source": []
  },
  {
   "cell_type": "markdown",
   "metadata": {},
   "source": [
    "## Scores by School Type"
   ]
  },
  {
   "cell_type": "markdown",
   "metadata": {},
   "source": [
    "* Perform the same operations as above, based on school type"
   ]
  },
  {
   "cell_type": "code",
   "execution_count": null,
   "metadata": {},
   "outputs": [],
   "source": []
  },
  {
   "cell_type": "code",
   "execution_count": null,
   "metadata": {},
   "outputs": [],
   "source": []
  }
 ],
 "metadata": {
  "anaconda-cloud": {},
  "kernel_info": {
   "name": "python3"
  },
  "kernelspec": {
   "display_name": "Python 3",
   "language": "python",
   "name": "python3"
  },
  "language_info": {
   "codemirror_mode": {
    "name": "ipython",
    "version": 3
   },
   "file_extension": ".py",
   "mimetype": "text/x-python",
   "name": "python",
   "nbconvert_exporter": "python",
   "pygments_lexer": "ipython3",
   "version": "3.7.6"
  },
  "latex_envs": {
   "LaTeX_envs_menu_present": true,
   "autoclose": false,
   "autocomplete": true,
   "bibliofile": "biblio.bib",
   "cite_by": "apalike",
   "current_citInitial": 1,
   "eqLabelWithNumbers": true,
   "eqNumInitial": 1,
   "hotkeys": {
    "equation": "Ctrl-E",
    "itemize": "Ctrl-I"
   },
   "labels_anchors": false,
   "latex_user_defs": false,
   "report_style_numbering": false,
   "user_envs_cfg": false
  },
  "nteract": {
   "version": "0.8.4"
  }
 },
 "nbformat": 4,
 "nbformat_minor": 1
}
